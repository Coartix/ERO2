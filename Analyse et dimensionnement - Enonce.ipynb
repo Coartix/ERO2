{
 "cells": [
  {
   "cell_type": "markdown",
   "id": "40670ede",
   "metadata": {
    "slideshow": {
     "slide_type": "slide"
    }
   },
   "source": [
    "# ERO2 : Un petit TP\n",
    "\n",
    "Ce document est à compléter, il sert d'évaluation sommative pour la première itération du cours d'ERO2. Merci de formuler vos questions sur le forum moodle prévu à cet effet."
   ]
  },
  {
   "cell_type": "code",
   "execution_count": 1,
   "id": "c6edaa59",
   "metadata": {
    "slideshow": {
     "slide_type": "slide"
    }
   },
   "outputs": [],
   "source": [
    "import numpy as np\n",
    "import pandas as pd"
   ]
  },
  {
   "cell_type": "code",
   "execution_count": 2,
   "id": "986bbab2",
   "metadata": {
    "slideshow": {
     "slide_type": "fragment"
    }
   },
   "outputs": [],
   "source": [
    "import matplotlib.pyplot as plt"
   ]
  },
  {
   "cell_type": "markdown",
   "id": "e45b4d8d-737a-4969-bfe4-9c6d8421e84f",
   "metadata": {
    "jp-MarkdownHeadingCollapsed": true
   },
   "source": [
    "## *Given Files*\n",
    "\n",
    "Cette section regroupe les éléments déjà préalablement à votre disposition, vous êtes libres de vous en servir pour répondre aux différentes questions du TP."
   ]
  },
  {
   "cell_type": "code",
   "execution_count": 3,
   "id": "61873e9a",
   "metadata": {
    "slideshow": {
     "slide_type": "subslide"
    }
   },
   "outputs": [],
   "source": [
    "class Wline():\n",
    "\n",
    "    def __init__(self, size=None, policy=(lambda x: 0)):\n",
    "        self.size = size\n",
    "        self.next = policy\n",
    "        \n",
    "    def populate(self, queue):\n",
    "        self.queue = queue\n",
    "    \n",
    "    def pop(self):\n",
    "        pop_ix = self.next(self.queue)\n",
    "        pop_val = None\n",
    "\n",
    "        if - len(self.queue) < pop_ix < len(self.queue) :\n",
    "            pop_val = self.queue[pop_ix]\n",
    "            self.queue.pop(pop_ix)\n",
    "            \n",
    "        return pop_val"
   ]
  },
  {
   "cell_type": "code",
   "execution_count": 4,
   "id": "384e4d9d",
   "metadata": {
    "slideshow": {
     "slide_type": "slide"
    }
   },
   "outputs": [],
   "source": [
    "class InService():\n",
    "    \n",
    "    def __init__(self, nb=1, dist=None):\n",
    "        self.nb = nb\n",
    "        self.server = [None]*nb\n",
    "        self.dist = dist\n",
    "        \n",
    "    def full(self):\n",
    "        return not (None in self.server)\n",
    "        \n",
    "    def leaving(self, tops):\n",
    "        \n",
    "        agent_id = None\n",
    "        \n",
    "        if not self.full():\n",
    "            #Extract index of an available server\n",
    "            srv_ix = self.server.index(None) \n",
    "        \n",
    "        else:\n",
    "            #Find agent of smallest departure time, needs to be float to use idxmin\n",
    "            agent_id = tops.loc[self.server, 't_depart_sys'].astype(float).idxmin()\n",
    "            #Extract server number of departing agent\n",
    "            srv_ix = self.server.index(agent_id) \n",
    "        \n",
    "        return srv_ix, agent_id"
   ]
  },
  {
   "cell_type": "code",
   "execution_count": 5,
   "id": "cefd92ff",
   "metadata": {
    "slideshow": {
     "slide_type": "subslide"
    }
   },
   "outputs": [],
   "source": [
    "class QS():\n",
    "    \n",
    "    def __init__(self, arval_dist, srv_dist, servers_nb, \n",
    "                 queue_size=None, policy=lambda x:0, test_size=100) :\n",
    "         \n",
    "        #Initializing metadata\n",
    "        self.arval_dist = arval_dist\n",
    "        self.srv_dist = srv_dist\n",
    "        self.srv_z = servers_nb\n",
    "        self.queue_z = queue_size if queue_size else test_size\n",
    "        self.test_z = test_size\n",
    "\n",
    "        #Initializing Waiting Line\n",
    "        self.wline = Wline(size=queue_size, policy=policy)\n",
    "        \n",
    "        #Initializing In Service List\n",
    "        self.inservice = InService(nb=servers_nb, dist=srv_dist)\n",
    "        \n",
    "        #Initializin tops dataframe\n",
    "        column_names = ['t_arval_queue', 't_arval_srv', 't_depart_sys']\n",
    "        self.tops = pd.DataFrame(np.empty((test_size, 3),dtype=object), columns=column_names)\n",
    "        \n",
    "    def pretreat(self):\n",
    "        \n",
    "        #Easing naming\n",
    "        tops = self.tops\n",
    "\n",
    "        t_interarvals = self.arval_dist(size=(self.test_z))\n",
    "        tops.loc[0, 't_arval_queue'] = t_interarvals[0]\n",
    "                \n",
    "        for agent in range(1, self.test_z) :\n",
    "            tops.loc[agent, 't_arval_queue'] = tops.loc[agent - 1, 't_arval_queue'] + t_interarvals[agent]\n",
    "        \n",
    "    def run(self):\n",
    "        \n",
    "        #Easing naming\n",
    "        wline = self.wline\n",
    "        inservice = self.inservice\n",
    "        tops = self.tops\n",
    "        \n",
    "        #Initializing arrival queue\n",
    "        wline.queue = list(tops.loc[0:0].index)\n",
    "        #Initializing upcomgin theoretical arrival        \n",
    "        buffer_ix = 1 \n",
    "    \n",
    "        while buffer_ix < self.test_z:\n",
    "            \n",
    "            _next = wline.pop()\n",
    "            if _next is not None: #Waiting line is not empty \n",
    "               # print(f\"_next : {_next}\")\n",
    "               # print(f\"arrival of next : {tops.loc[_next, 't_arval_queue']}\")\n",
    "\n",
    "                #Update server arrival time as if no waiting was needed\n",
    "                tops.loc[_next, 't_arval_srv'] = tops.loc[_next, 't_arval_queue']\n",
    "                \n",
    "                #Find next available server\n",
    "                srv_ix, dept_ag = inservice.leaving(tops)\n",
    "    \n",
    "                #Fill available server with corresponding next agent in waiting line\n",
    "                inservice.server[srv_ix] = _next \n",
    "                    \n",
    "                if dept_ag is not None :\n",
    "                    if tops.loc[_next, 't_arval_queue'] < tops.loc[dept_ag, 't_depart_sys'] : \n",
    "                        #Update server arrival time in case arrival is before system departure\n",
    "                        tops.loc[_next, 't_arval_srv'] = tops.loc[dept_ag, 't_depart_sys']\n",
    "                        \n",
    "                #Update system departure time\n",
    "                tops.loc[_next, 't_depart_sys'] = tops.loc[_next, 't_arval_srv'] + inservice.dist() \n",
    "                                            \n",
    "            #Counting prior agents still in system\n",
    "            in_system = (tops.loc[0:buffer_ix - 1, 't_depart_sys'] > tops.loc[buffer_ix, 't_arval_queue']).sum()\n",
    "                            \n",
    "            if self.queue_z is not None and in_system >= self.queue_z + self.inservice.nb:\n",
    "                tops.loc[buffer_ix, 't_depart_sys'] = -1\n",
    "            else:\n",
    "                wline.queue.append(buffer_ix)\n",
    "                    \n",
    "            buffer_ix += 1\n",
    "                \n",
    "    def posttreat(self):\n",
    "        \n",
    "        #Easing naming\n",
    "        tops = self.tops\n",
    "        \n",
    "        tops['t_sojourn'] = np.where(tops['t_depart_sys'] == -1, 0, tops['t_depart_sys'] - tops['t_arval_queue'])\n",
    "        tops['t_waiting'] = np.where(tops['t_depart_sys'] == -1, 0, tops['t_arval_srv'] - tops['t_arval_queue'])\n",
    "        tops['t_service'] = np.where(tops['t_depart_sys'] == -1, 0, tops['t_depart_sys'] - tops['t_arval_srv'])\n",
    "        tops['blocked'] = tops.loc[:,'t_depart_sys'] == -1\n",
    "        tops['waited'] = tops['t_waiting'] > 0 \n",
    "    \n",
    "    def timeline(self, t_delation=2):\n",
    "        \n",
    "        #Easing naming\n",
    "        tops = self.tops\n",
    "        test_z = self.test_z\n",
    "\n",
    "        # Process determination\n",
    "        colnames = ['ag_in_sys', 'ag_in_queue', 'ag_in_service']\n",
    "        t_range = np.linspace(0., tops['t_depart_sys'].max(), t_delation*test_z)\n",
    "        process = pd.DataFrame(np.empty((t_range.shape[0], 3),dtype=object), \n",
    "                                index=t_range, columns=colnames)\n",
    "        \n",
    "        for t in process.index:\n",
    "            process.loc[t, 'ag_in_sys'] = ((t >= tops['t_arval_queue']) & (t <= tops['t_depart_sys'])).sum()\n",
    "            process.loc[t, 'ag_in_queue'] = ((t >= tops['t_arval_queue']) & (t <= tops['t_arval_srv'])).sum()\n",
    "            process.loc[t, 'ag_in_service'] = ((t > tops['t_arval_srv']) & (t <= tops['t_depart_sys'])).sum()\n",
    "        \n",
    "        # Statistics extractions\n",
    "        statnames = ['mean_sojourn_time', 'mean_waiting_time', 'mean_service_time', \n",
    "                     'waiting_proportion', 'blocked_proportion', 'servers_max_usage']\n",
    "        stats = pd.DataFrame(np.empty((len(statnames), 1),dtype=object), index=statnames, columns=['run value'])\n",
    " \n",
    "        stats.loc['mean_sojourn_time'] = tops['t_sojourn'].sum() / (~tops['blocked']).sum()\n",
    "        stats.loc['mean_waiting_time'] = tops['t_waiting'].sum() / (~tops['blocked']).sum()\n",
    "        stats.loc['mean_service_time'] = tops['t_service'].sum() / (~tops['blocked']).sum()\n",
    "\n",
    "        stats.loc['waiting_proportion'] = tops['waited'].sum() / (~tops['blocked']).sum()\n",
    "        stats.loc['blocked_proportion'] = tops['blocked'].sum() / test_z\n",
    "\n",
    "        # An approximation of server usage, for better approximation raise t_delation.\n",
    "        stats.loc['servers_max_usage'] = (process['ag_in_service'] == self.inservice.nb).sum() / (t_delation*test_z - 1)\n",
    "\n",
    "        return process, stats"
   ]
  },
  {
   "cell_type": "markdown",
   "id": "50d835bd-10da-46c8-a02d-8e531122e7d6",
   "metadata": {
    "jp-MarkdownHeadingCollapsed": true
   },
   "source": [
    "# Question 1"
   ]
  },
  {
   "cell_type": "markdown",
   "id": "193100dd-5550-4f3b-9910-6f2c2c84c5a7",
   "metadata": {
    "jp-MarkdownHeadingCollapsed": true
   },
   "source": [
    "1. Comparer les comportements de files M/M/1/k et M/M/1/k/LIFO au regard des métriques qui vous semblent pertinentes. Appuyez vos conclusions de simulations et contextualisez vos choix.\n",
    "2. Vos conclusions changent-elles dans le cas des M/M/1 et M/M/1/LIFO ?"
   ]
  },
  {
   "cell_type": "code",
   "execution_count": 6,
   "id": "b631237b-2a18-45b4-b122-77c114419359",
   "metadata": {},
   "outputs": [],
   "source": [
    "rng = np.random.default_rng(seed=42)"
   ]
  },
  {
   "cell_type": "code",
   "execution_count": 7,
   "id": "5496b32b",
   "metadata": {
    "editable": true,
    "slideshow": {
     "slide_type": "slide"
    },
    "tags": []
   },
   "outputs": [],
   "source": [
    "srv_nb = 1\n",
    "arval_dist = lambda size : rng.exponential(1./40, size=size)\n",
    "srv_dist = lambda :  rng.exponential(1./4.)\n",
    "fifo_policy = lambda x : 0\n",
    "lifo_policy = lambda x : (-1)"
   ]
  },
  {
   "cell_type": "code",
   "execution_count": 8,
   "id": "24505a2a",
   "metadata": {
    "slideshow": {
     "slide_type": "fragment"
    }
   },
   "outputs": [],
   "source": [
    "mm1_fifo = QS(arval_dist, srv_dist, srv_nb, queue_size=10, test_size=100, policy=fifo_policy)"
   ]
  },
  {
   "cell_type": "code",
   "execution_count": 9,
   "id": "138f2fab-cbbd-41a1-b934-69026cee7825",
   "metadata": {},
   "outputs": [],
   "source": [
    "mm1_lifo = QS(arval_dist, srv_dist, srv_nb, queue_size=10, test_size=100, policy=lifo_policy)"
   ]
  },
  {
   "cell_type": "code",
   "execution_count": 10,
   "id": "d7371540",
   "metadata": {
    "slideshow": {
     "slide_type": "fragment"
    }
   },
   "outputs": [],
   "source": [
    "mm1_fifo.pretreat()\n",
    "mm1_lifo.pretreat()"
   ]
  },
  {
   "cell_type": "code",
   "execution_count": 11,
   "id": "48eb5bf7",
   "metadata": {
    "slideshow": {
     "slide_type": "fragment"
    }
   },
   "outputs": [],
   "source": [
    "mm1_fifo.run()\n",
    "mm1_lifo.run()"
   ]
  },
  {
   "cell_type": "code",
   "execution_count": 12,
   "id": "e2083c41",
   "metadata": {
    "slideshow": {
     "slide_type": "fragment"
    }
   },
   "outputs": [],
   "source": [
    "mm1_fifo.posttreat()\n",
    "mm1_lifo.posttreat()"
   ]
  },
  {
   "cell_type": "code",
   "execution_count": 13,
   "id": "1b6d236d-d14e-46d1-ae98-0d74f3cc4174",
   "metadata": {},
   "outputs": [],
   "source": [
    "mm1_fifo_bench, mm1_fifo_stats = mm1_fifo.timeline()\n",
    "mm1_lifo_bench, mm1_lifo_stats = mm1_lifo.timeline()"
   ]
  },
  {
   "cell_type": "code",
   "execution_count": 14,
   "id": "3b635b72-3d18-4b5c-aaaa-edafdec94c74",
   "metadata": {},
   "outputs": [
    {
     "data": {
      "text/html": [
       "<div>\n",
       "<style scoped>\n",
       "    .dataframe tbody tr th:only-of-type {\n",
       "        vertical-align: middle;\n",
       "    }\n",
       "\n",
       "    .dataframe tbody tr th {\n",
       "        vertical-align: top;\n",
       "    }\n",
       "\n",
       "    .dataframe thead th {\n",
       "        text-align: right;\n",
       "    }\n",
       "</style>\n",
       "<table border=\"1\" class=\"dataframe\">\n",
       "  <thead>\n",
       "    <tr style=\"text-align: right;\">\n",
       "      <th></th>\n",
       "      <th>run value_fifo</th>\n",
       "      <th>run value_lifo</th>\n",
       "    </tr>\n",
       "  </thead>\n",
       "  <tbody>\n",
       "    <tr>\n",
       "      <th>mean_sojourn_time</th>\n",
       "      <td>1.581122</td>\n",
       "      <td>2.177111</td>\n",
       "    </tr>\n",
       "    <tr>\n",
       "      <th>mean_waiting_time</th>\n",
       "      <td>1.382879</td>\n",
       "      <td>1.906979</td>\n",
       "    </tr>\n",
       "    <tr>\n",
       "      <th>mean_service_time</th>\n",
       "      <td>0.198242</td>\n",
       "      <td>0.270132</td>\n",
       "    </tr>\n",
       "    <tr>\n",
       "      <th>waiting_proportion</th>\n",
       "      <td>0.904762</td>\n",
       "      <td>0.909091</td>\n",
       "    </tr>\n",
       "    <tr>\n",
       "      <th>blocked_proportion</th>\n",
       "      <td>0.79</td>\n",
       "      <td>0.78</td>\n",
       "    </tr>\n",
       "    <tr>\n",
       "      <th>servers_max_usage</th>\n",
       "      <td>0.98995</td>\n",
       "      <td>0.984925</td>\n",
       "    </tr>\n",
       "  </tbody>\n",
       "</table>\n",
       "</div>"
      ],
      "text/plain": [
       "                   run value_fifo run value_lifo\n",
       "mean_sojourn_time        1.581122       2.177111\n",
       "mean_waiting_time        1.382879       1.906979\n",
       "mean_service_time        0.198242       0.270132\n",
       "waiting_proportion       0.904762       0.909091\n",
       "blocked_proportion           0.79           0.78\n",
       "servers_max_usage         0.98995       0.984925"
      ]
     },
     "execution_count": 14,
     "metadata": {},
     "output_type": "execute_result"
    }
   ],
   "source": [
    "mm1_fifo_stats.join(mm1_lifo_stats, lsuffix=\"_fifo\", rsuffix=\"_lifo\")"
   ]
  },
  {
   "cell_type": "code",
   "execution_count": 15,
   "id": "aaa33cb7",
   "metadata": {},
   "outputs": [
    {
     "data": {
      "image/png": "[encoded data removed]",
      "text/plain": [
       "<Figure size 3200x1200 with 6 Axes>"
      ]
     },
     "metadata": {},
     "output_type": "display_data"
    }
   ],
   "source": [
    "fig, axes = plt.subplots(3, 2, figsize=(32, 12))\n",
    "counts = ['ag_in_sys','ag_in_queue','ag_in_service']\n",
    "labels = ['system', 'queue', 'service']\n",
    "colors = ['red', 'blue', 'black']\n",
    "\n",
    "for i in range(3):\n",
    "    mm1_fifo_bench.plot(y= counts[i], \n",
    "                   use_index=True, ax=axes[i,0], linewidth=2,drawstyle='steps-mid', color=f'{colors[i]}',\n",
    "                   ylabel=f'Agent number in {labels[i]}', xlabel='Time', ylim=[0,max(mm1_fifo_bench['ag_in_sys']+1)])\n",
    "    \n",
    "    mm1_lifo_bench.plot(y= counts[i], \n",
    "                   use_index=True, ax=axes[i,1], linewidth=2,drawstyle='steps-mid', color=f'{colors[i]}',\n",
    "                   ylabel=f'Agent number in {labels[i]}', xlabel='Time', ylim=[0,max(mm1_lifo_bench['ag_in_sys']+1)])"
   ]
  },
  {
   "cell_type": "markdown",
   "id": "2e26c8c9-3a42-48f2-be3a-d39decb6c19e",
   "metadata": {},
   "source": [
    "# Question 2"
   ]
  },
  {
   "cell_type": "markdown",
   "id": "d1af7bc5-a5a1-427c-88e1-7e6fefddf79b",
   "metadata": {},
   "source": [
    "On suppose avoir à diposition $5$ serveurs $s_1$, $\\ldots$, $s_5$ et $3$ files d'arrivées *FIFO* $f_1$, $f_1$, $f_3$ de tailles respectives $z_1$, $z_2$, $z_3$. Les temps de services de nos serveurs sont respectivements donnés par des lois exponentielles paramètres $\\mu_1$, $\\ldots$, $\\mu_5$, ordonnés par ordre croissant.  \n",
    "\n",
    "Une population d'agents s'adresse à notre service, déployé identitiquement sur chaque serveur. On constate que cette population est décomposée en $5$ sous-populations $A_1$, $\\ldots$, $A_5$ dont les processus d'arrivées sont respectivement d'intensités $\\lambda_1$, $\\ldots$, $\\lambda_5$, ordonnés par ordre croissants. Les tailles respectives de chacune des populations sont $a_1$, $\\ldots$, $a_5$ ; elles vérifient les relations $a_i > 2\\max\\{z_1, z_2, z_3\\}$ pour tout $1 \\leq i \\leq 3$.   "
   ]
  },
  {
   "cell_type": "markdown",
   "id": "8291a267-b230-46cf-84cf-00447bcf0558",
   "metadata": {},
   "source": [
    "1. Simuler un système d'attente qui permet de répondre aux besoins de services.\n",
    "2. Comparer un minimum de trois architectures possibles, au regard des ressources à disposition, pour répondre aux besoins de services. Vous êtes attendus sur des simulations appuyants vos propos.\n",
    "3. Quelles modifications apporteriez-vous sur votre proposition si l'on introduit une fonction de dissatisfaction des agents donnée par $ b_1 + 2 b_2 + \\cdots 5 b_5$, où $b_i$ correspond au nombre d'agents de la populations $A_i$ qui n'ont pas pu avoir accès au système ?"
   ]
  },
  {
   "cell_type": "markdown",
   "id": "a9967034-220f-41fc-a364-d8a336bbfd3a",
   "metadata": {},
   "source": [
    "Vous êtes autorisé d'effectuer des hypothèses simplificatrices dans votre travail. Attention à ce qu'elles ne soient pas *trop* simplificatrices."
   ]
  },
  {
   "cell_type": "code",
   "execution_count": null,
   "id": "4d0a082a-3614-4909-8aa0-2cd12a19d7c0",
   "metadata": {},
   "outputs": [],
   "source": []
  }
 ],
 "metadata": {
  "celltoolbar": "Aucun(e)",
  "kernelspec": {
   "display_name": "Python 3 (ipykernel)",
   "language": "python",
   "name": "python3"
  },
  "language_info": {
   "codemirror_mode": {
    "name": "ipython",
    "version": 3
   },
   "file_extension": ".py",
   "mimetype": "text/x-python",
   "name": "python",
   "nbconvert_exporter": "python",
   "pygments_lexer": "ipython3",
   "version": "3.11.3"
  }
 },
 "nbformat": 4,
 "nbformat_minor": 5
}
